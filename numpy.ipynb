{
 "cells": [
  {
   "cell_type": "code",
   "execution_count": null,
   "id": "67c0f41b",
   "metadata": {},
   "outputs": [],
   "source": [
    "import numpy"
   ]
  },
  {
   "cell_type": "code",
   "execution_count": null,
   "id": "34c3a222",
   "metadata": {},
   "outputs": [],
   "source": [
    "pip install numpy"
   ]
  },
  {
   "cell_type": "code",
   "execution_count": 1,
   "id": "80a96dce",
   "metadata": {},
   "outputs": [],
   "source": [
    "import numpy"
   ]
  },
  {
   "cell_type": "code",
   "execution_count": 2,
   "id": "76256942",
   "metadata": {},
   "outputs": [],
   "source": [
    "import numpy as np"
   ]
  },
  {
   "cell_type": "code",
   "execution_count": 6,
   "id": "0927db0d",
   "metadata": {},
   "outputs": [],
   "source": [
    "a=np.array([1,2,3])"
   ]
  },
  {
   "cell_type": "code",
   "execution_count": 7,
   "id": "2d92fbca",
   "metadata": {},
   "outputs": [
    {
     "name": "stdout",
     "output_type": "stream",
     "text": [
      "[1 2 3]\n"
     ]
    }
   ],
   "source": [
    "print(a)"
   ]
  },
  {
   "cell_type": "code",
   "execution_count": 8,
   "id": "417ed47c",
   "metadata": {},
   "outputs": [],
   "source": [
    "c=np.array([(1,2,3),(4,5,6)])"
   ]
  },
  {
   "cell_type": "code",
   "execution_count": 9,
   "id": "ba0b2501",
   "metadata": {},
   "outputs": [
    {
     "name": "stdout",
     "output_type": "stream",
     "text": [
      "[[1 2 3]\n",
      " [4 5 6]]\n"
     ]
    }
   ],
   "source": [
    "print(c)"
   ]
  },
  {
   "cell_type": "code",
   "execution_count": 10,
   "id": "6eedd878",
   "metadata": {},
   "outputs": [],
   "source": [
    "trans=np.transpose(c)"
   ]
  },
  {
   "cell_type": "code",
   "execution_count": 11,
   "id": "dccc147d",
   "metadata": {},
   "outputs": [
    {
     "name": "stdout",
     "output_type": "stream",
     "text": [
      "[[1 4]\n",
      " [2 5]\n",
      " [3 6]]\n"
     ]
    }
   ],
   "source": [
    "print(trans)"
   ]
  },
  {
   "cell_type": "code",
   "execution_count": 12,
   "id": "03629847",
   "metadata": {},
   "outputs": [
    {
     "data": {
      "text/plain": [
       "array([1, 4, 2, 5, 3, 6])"
      ]
     },
     "execution_count": 12,
     "metadata": {},
     "output_type": "execute_result"
    }
   ],
   "source": [
    "trans.ravel()"
   ]
  },
  {
   "cell_type": "code",
   "execution_count": 13,
   "id": "e92bd21f",
   "metadata": {},
   "outputs": [
    {
     "data": {
      "text/plain": [
       "array([1, 2, 3, 4, 5, 6])"
      ]
     },
     "execution_count": 13,
     "metadata": {},
     "output_type": "execute_result"
    }
   ],
   "source": [
    "c.ravel()"
   ]
  },
  {
   "cell_type": "code",
   "execution_count": 14,
   "id": "cda48d11",
   "metadata": {},
   "outputs": [
    {
     "data": {
      "text/plain": [
       "array([[1],\n",
       "       [2],\n",
       "       [3]])"
      ]
     },
     "execution_count": 14,
     "metadata": {},
     "output_type": "execute_result"
    }
   ],
   "source": [
    "a.reshape(3,1)"
   ]
  },
  {
   "cell_type": "code",
   "execution_count": 26,
   "id": "7657f6dc",
   "metadata": {},
   "outputs": [],
   "source": [
    "ze=np.zeros((3,3))"
   ]
  },
  {
   "cell_type": "code",
   "execution_count": 27,
   "id": "fc8736fd",
   "metadata": {},
   "outputs": [
    {
     "name": "stdout",
     "output_type": "stream",
     "text": [
      "[[0. 0. 0.]\n",
      " [0. 0. 0.]\n",
      " [0. 0. 0.]]\n"
     ]
    }
   ],
   "source": [
    "print(ze)"
   ]
  },
  {
   "cell_type": "code",
   "execution_count": 24,
   "id": "4d50d70a",
   "metadata": {},
   "outputs": [],
   "source": [
    "no=np.ones((3,3))"
   ]
  },
  {
   "cell_type": "code",
   "execution_count": 25,
   "id": "abe0462e",
   "metadata": {},
   "outputs": [
    {
     "name": "stdout",
     "output_type": "stream",
     "text": [
      "[[1. 1. 1.]\n",
      " [1. 1. 1.]\n",
      " [1. 1. 1.]]\n"
     ]
    }
   ],
   "source": [
    "print(no)"
   ]
  },
  {
   "cell_type": "code",
   "execution_count": 28,
   "id": "4fc3048b",
   "metadata": {},
   "outputs": [
    {
     "data": {
      "text/plain": [
       "array([[0.29798051, 0.98956945, 0.96449478, 0.48222631, 0.61114593,\n",
       "        0.84482969, 0.61380974, 0.97361371, 0.08339065, 0.08295449,\n",
       "        0.61036201, 0.58525572, 0.94241677, 0.69228441, 0.38344335,\n",
       "        0.60648641, 0.77322647, 0.94135418, 0.54660796, 0.03494547],\n",
       "       [0.84456084, 0.42808033, 0.05945741, 0.16578911, 0.95039084,\n",
       "        0.9212633 , 0.38959518, 0.91044097, 0.51642288, 0.12274666,\n",
       "        0.70967758, 0.27609931, 0.99051303, 0.46147913, 0.15652266,\n",
       "        0.13788844, 0.70317285, 0.37223567, 0.4512217 , 0.58721485],\n",
       "       [0.36643762, 0.40495446, 0.13100019, 0.12544505, 0.5177384 ,\n",
       "        0.42813776, 0.38757257, 0.96953141, 0.15138768, 0.38631356,\n",
       "        0.84061631, 0.3478202 , 0.0691491 , 0.78683506, 0.94652498,\n",
       "        0.48569419, 0.44563811, 0.46224133, 0.23323069, 0.94920395],\n",
       "       [0.68757039, 0.55113155, 0.52100148, 0.49875982, 0.28148711,\n",
       "        0.98512353, 0.7513928 , 0.33866905, 0.4555704 , 0.81129113,\n",
       "        0.69551736, 0.36159464, 0.6092623 , 0.28206918, 0.2950503 ,\n",
       "        0.95229936, 0.82278823, 0.56310894, 0.63238784, 0.60136549],\n",
       "       [0.66876121, 0.97256251, 0.96771809, 0.00325583, 0.63481215,\n",
       "        0.81700171, 0.00551482, 0.44109862, 0.110657  , 0.96598795,\n",
       "        0.04971028, 0.26804749, 0.80749846, 0.70094207, 0.72498802,\n",
       "        0.01831225, 0.45377943, 0.10961076, 0.83238859, 0.87749051],\n",
       "       [0.13577978, 0.86103921, 0.24382038, 0.68581504, 0.4325428 ,\n",
       "        0.6380536 , 0.80057057, 0.80367708, 0.10630871, 0.76031982,\n",
       "        0.86384943, 0.81997273, 0.89302851, 0.07314162, 0.13754788,\n",
       "        0.2502575 , 0.59629653, 0.44089253, 0.95848315, 0.60089555],\n",
       "       [0.80213753, 0.71164352, 0.92420402, 0.80171662, 0.54011191,\n",
       "        0.30561339, 0.16344815, 0.58973361, 0.33532911, 0.4278343 ,\n",
       "        0.28365997, 0.45878476, 0.84439986, 0.13365332, 0.14469091,\n",
       "        0.62738639, 0.26734908, 0.67799388, 0.53992331, 0.9633835 ],\n",
       "       [0.42631382, 0.09261636, 0.58777239, 0.65026521, 0.45221051,\n",
       "        0.58869682, 0.8755283 , 0.81535933, 0.64570657, 0.79910002,\n",
       "        0.7310439 , 0.14551454, 0.85648376, 0.88980775, 0.24041698,\n",
       "        0.35127409, 0.18763695, 0.10877959, 0.11846419, 0.35233924],\n",
       "       [0.5390222 , 0.98302706, 0.03159239, 0.42769193, 0.51716812,\n",
       "        0.12425574, 0.34089635, 0.05531729, 0.22817872, 0.29457748,\n",
       "        0.89341974, 0.54592409, 0.06163491, 0.28828946, 0.08726916,\n",
       "        0.99093682, 0.51208552, 0.35976248, 0.55267163, 0.92966784],\n",
       "       [0.68905745, 0.27736368, 0.06687468, 0.75100329, 0.70931079,\n",
       "        0.18947818, 0.52025187, 0.49203668, 0.83604776, 0.36768842,\n",
       "        0.39775223, 0.13902559, 0.58291385, 0.53432366, 0.86284874,\n",
       "        0.30073893, 0.10698447, 0.99934095, 0.58286313, 0.6266629 ]])"
      ]
     },
     "execution_count": 28,
     "metadata": {},
     "output_type": "execute_result"
    }
   ],
   "source": [
    "np.random.random((10,20))"
   ]
  },
  {
   "cell_type": "code",
   "execution_count": null,
   "id": "f24efe8f",
   "metadata": {},
   "outputs": [],
   "source": []
  }
 ],
 "metadata": {
  "kernelspec": {
   "display_name": "Python 3 (ipykernel)",
   "language": "python",
   "name": "python3"
  },
  "language_info": {
   "codemirror_mode": {
    "name": "ipython",
    "version": 3
   },
   "file_extension": ".py",
   "mimetype": "text/x-python",
   "name": "python",
   "nbconvert_exporter": "python",
   "pygments_lexer": "ipython3",
   "version": "3.10.8"
  }
 },
 "nbformat": 4,
 "nbformat_minor": 5
}
