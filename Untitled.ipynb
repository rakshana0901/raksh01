{
 "cells": [
  {
   "cell_type": "code",
   "execution_count": 2,
   "id": "61f81fbf",
   "metadata": {},
   "outputs": [
    {
     "name": "stdout",
     "output_type": "stream",
     "text": [
      "enter total seat capacity10\n",
      "your journey is not confirmed\n",
      "only 1 tickets booked\n",
      "your journey is not confirmed\n",
      "only 2 tickets booked\n",
      "your journey is not confirmed\n",
      "only 3 tickets booked\n",
      "your journey is not confirmed\n",
      "only 4 tickets booked\n",
      "your journey is not confirmed\n",
      "only 5 tickets booked\n",
      "50% of the ticket filled journey confirmed\n"
     ]
    }
   ],
   "source": [
    "tcs=int(input(\"enter total seat capacity\"))\n",
    "counter=1\n",
    "while counter<=tcs/2:\n",
    "    print(f\"your journey is not confirmed\")\n",
    "    print(f\"only {counter} tickets booked\")\n",
    "    counter+=1\n",
    "print(\"50% of the ticket filled journey confirmed\")"
   ]
  },
  {
   "cell_type": "code",
   "execution_count": 32,
   "id": "c2d9aa5c",
   "metadata": {},
   "outputs": [
    {
     "name": "stdout",
     "output_type": "stream",
     "text": [
      "fibonacci series 0 \n",
      " 1\n",
      "1\n",
      "2\n",
      "3\n",
      "5\n",
      "8\n",
      "13\n",
      "21\n",
      "34\n",
      "\n"
     ]
    }
   ],
   "source": [
    "num=10\n",
    "a=0\n",
    "b=1\n",
    "print(\"fibonacci series\",a,\"\\n\",b, end=\"\\n\")\n",
    "for i in range(2,num):\n",
    "    c=a+b\n",
    "    a=b\n",
    "    b=c\n",
    "    print(c,end=\"\\n\")\n",
    "print()"
   ]
  },
  {
   "cell_type": "code",
   "execution_count": null,
   "id": "c9af4441",
   "metadata": {},
   "outputs": [],
   "source": [
    "def fibo (limit)"
   ]
  }
 ],
 "metadata": {
  "kernelspec": {
   "display_name": "Python 3 (ipykernel)",
   "language": "python",
   "name": "python3"
  },
  "language_info": {
   "codemirror_mode": {
    "name": "ipython",
    "version": 3
   },
   "file_extension": ".py",
   "mimetype": "text/x-python",
   "name": "python",
   "nbconvert_exporter": "python",
   "pygments_lexer": "ipython3",
   "version": "3.10.8"
  }
 },
 "nbformat": 4,
 "nbformat_minor": 5
}
